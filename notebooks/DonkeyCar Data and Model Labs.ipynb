{
 "cells": [
  {
   "cell_type": "markdown",
   "metadata": {},
   "source": [
    "# DonkeyCar Data and Model Labls"
   ]
  },
  {
   "cell_type": "markdown",
   "metadata": {},
   "source": [
    "Here are some sample Jupyter Notebooks for working with AI Racing League DonkeyCar \n",
    "tub and models.  When we drive around the track we collect a set of images and \n",
    "the driving features associated with these images.  These features include the throttle and angle on our joystick and they are stored in a JSON file.  Our first set of queries will analize this image and JSON data.\n",
    "\n",
    "Steps:\n",
    "\n",
    "1. Set your default data directory path and list the tub subdirectories in that path\n",
    "1. Count the total files in the tub (should be from 3K to 100k files)\n",
    "1. Count the number of images and json files in a tub\n",
    "1. List image sizes for a tub\n",
    "1. List average speed and throttle for a tub\n",
    "1. List JSON files with zero values for throttle\n",
    "1. Plot angle information for a tub\n",
    "1. Plot speed (throttle) information for a given tub\n",
    "1. Display some sample images\n",
    "1. Validate the angle and speed data is all between the correct ranges\n",
    "\n",
    "Our first example we will import the os library so we can access file system functions such as listdir, isdir and path.join function."
   ]
  },
  {
   "cell_type": "code",
   "execution_count": 64,
   "metadata": {},
   "outputs": [
    {
     "name": "stdout",
     "output_type": "stream",
     "text": [
      "tub-dan\n"
     ]
    }
   ],
   "source": [
    "# list tubs in the mycar data directory\n",
    "import os\n",
    "\n",
    "DATA_DIR = '/Users/dan/mycar/data'\n",
    "\n",
    "# list tub dirs\n",
    "for d in os.listdir(tub_dir):\n",
    "    if os.path.isdir(os.path.join(DATA_DIR, d)):\n",
    "       print(d)\n"
   ]
  },
  {
   "cell_type": "markdown",
   "metadata": {},
   "source": [
    "Now lets count the number of files (both .jpeg and .json files) in our tub.\n",
    "The correct number should be between 1000 and 100,000 files with a good middle\n",
    "range of around 20,000 total files for 20 times around the track - 10 clockwise and 10 counter clockwise."
   ]
  },
  {
   "cell_type": "code",
   "execution_count": 65,
   "metadata": {},
   "outputs": [
    {
     "name": "stdout",
     "output_type": "stream",
     "text": [
      "10759\n"
     ]
    }
   ],
   "source": [
    "# now count the total number files in the tub\n",
    "TUB_DIR = '/Users/dan/mycar/data/tub-dan'\n",
    "\n",
    "print( len([name for name in os.listdir(TUB_DIR) \n",
    "            if os.path.isfile(os.path.join(TUB_DIR, name))]\n",
    "          )\n",
    "     )\n"
   ]
  },
  {
   "cell_type": "markdown",
   "metadata": {},
   "source": [
    "Now lets use the glob library to fine files that match specific patterns.  \"glob\" is a general term used to define techniques to match specified pattern according to rules of regular expressions languages.  In this example we will use the astrisk or \"star\" as wildcard card expression to match muliple characters."
   ]
  },
  {
   "cell_type": "code",
   "execution_count": 63,
   "metadata": {},
   "outputs": [
    {
     "name": "stdout",
     "output_type": "stream",
     "text": [
      "5379\n",
      "5379\n"
     ]
    }
   ],
   "source": [
    "import glob\n",
    "print(len(glob.glob1(TUB_DIR,\"*.jpg\")))\n",
    "print(len(glob.glob1(TUB_DIR,\"record_*.json\")))"
   ]
  },
  {
   "cell_type": "markdown",
   "metadata": {},
   "source": [
    "Let's make the numbers format with commas.  We can do this by adding format function.  The {:,} tells the format function to display the numbers with comma sepererators."
   ]
  },
  {
   "cell_type": "code",
   "execution_count": 94,
   "metadata": {},
   "outputs": [
    {
     "name": "stdout",
     "output_type": "stream",
     "text": [
      "JPEF file count: 5,379\n",
      "JSON file count: 5,380\n"
     ]
    }
   ],
   "source": [
    "jpg_count = len(glob.glob1(TUB_DIR,\"*.jpg\"))\n",
    "json_count = len(glob.glob1(TUB_DIR,\"*.json\"))\n",
    "print(\"JPEF file count:\", \"{:,}\".format(jpg_count))\n",
    "print(\"JSON file count:\", \"{:,}\".format(json_count))"
   ]
  },
  {
   "cell_type": "markdown",
   "metadata": {},
   "source": [
    "Lets list the exact names of the first five files by adding [.5] to the end of the list. "
   ]
  },
  {
   "cell_type": "code",
   "execution_count": 67,
   "metadata": {},
   "outputs": [
    {
     "data": {
      "text/plain": [
       "['3937_cam-image_array_.jpg',\n",
       " '1086_cam-image_array_.jpg',\n",
       " '1202_cam-image_array_.jpg',\n",
       " '4972_cam-image_array_.jpg',\n",
       " '955_cam-image_array_.jpg']"
      ]
     },
     "execution_count": 67,
     "metadata": {},
     "output_type": "execute_result"
    }
   ],
   "source": [
    "glob.glob1(TUB_DIR,\"*.jpg\")[:5]"
   ]
  },
  {
   "cell_type": "markdown",
   "metadata": {},
   "source": [
    "We can also see the format of the files and put in a more precise wildcard expression that uses integers for the initial strings if we want."
   ]
  },
  {
   "cell_type": "code",
   "execution_count": 118,
   "metadata": {},
   "outputs": [
    {
     "data": {
      "text/plain": [
       "['3937_cam-image_array_.jpg',\n",
       " '1086_cam-image_array_.jpg',\n",
       " '1202_cam-image_array_.jpg',\n",
       " '4972_cam-image_array_.jpg',\n",
       " '955_cam-image_array_.jpg']"
      ]
     },
     "execution_count": 118,
     "metadata": {},
     "output_type": "execute_result"
    }
   ],
   "source": [
    "glob.glob1(TUB_DIR,\"*[0-9]*_cam-image_array_.jpg\")[:5]"
   ]
  },
  {
   "cell_type": "markdown",
   "metadata": {},
   "source": [
    "Now let's look at the file format for the first five JSON files."
   ]
  },
  {
   "cell_type": "code",
   "execution_count": 122,
   "metadata": {},
   "outputs": [
    {
     "data": {
      "text/plain": [
       "['record_3430.json',\n",
       " 'record_3060.json',\n",
       " 'record_2221.json',\n",
       " 'record_997.json',\n",
       " 'record_3963.json']"
      ]
     },
     "execution_count": 122,
     "metadata": {},
     "output_type": "execute_result"
    }
   ],
   "source": [
    "glob.glob1(TUB_DIR,\"*.json\")[:5]"
   ]
  },
  {
   "cell_type": "markdown",
   "metadata": {},
   "source": [
    "So we can now put in a precise pattern for the JSON files also using record_ integers and .json"
   ]
  },
  {
   "cell_type": "code",
   "execution_count": 121,
   "metadata": {},
   "outputs": [
    {
     "name": "stdout",
     "output_type": "stream",
     "text": [
      "record_3430.json\n",
      "record_3060.json\n",
      "record_2221.json\n",
      "record_997.json\n",
      "record_3963.json\n"
     ]
    }
   ],
   "source": [
    "import glob\n",
    "for name in glob.glob1(TUB_DIR,'record_*[0-9]*.json')[:5]:\n",
    "     print(name)"
   ]
  },
  {
   "cell_type": "markdown",
   "metadata": {},
   "source": [
    "## Viewing a JSON file\n",
    "Next, lets view a sample JSON file.  We import a json library and use the json.load on the open file.\n"
   ]
  },
  {
   "cell_type": "code",
   "execution_count": 136,
   "metadata": {},
   "outputs": [
    {
     "name": "stdout",
     "output_type": "stream",
     "text": [
      "/Users/dan/mycar/data/tub-dan/record_3430.json\n",
      "{\n",
      "   \"cam/image_array\": \"3430_cam-image_array_.jpg\",\n",
      "   \"user/angle\": -0.3399761955626087,\n",
      "   \"user/throttle\": 0.5,\n",
      "   \"user/mode\": \"user\",\n",
      "   \"milliseconds\": 199648\n",
      "}\n"
     ]
    }
   ],
   "source": [
    "import json\n",
    "file_path = '/Users/dan/mycar/data/tub-dan/record_3430.json'\n",
    "# use the file open function and load the file as json into the data object\n",
    "with open(file_path) as f:\n",
    "    data = json.load(f)\n",
    "\n",
    "print(file_path)\n",
    "# We can format the JSON file to the output using dumps with an indent of 3\n",
    "print(json.dumps(data, indent=3))\n"
   ]
  },
  {
   "cell_type": "markdown",
   "metadata": {},
   "source": [
    "## Accessing the Angle and Throttle in a JSON file\n",
    "We can access different elements of the JSON data by just passing a path to that data element.  The angle data is also stored as a float, but we only really need to see the first three digits."
   ]
  },
  {
   "cell_type": "code",
   "execution_count": 143,
   "metadata": {},
   "outputs": [
    {
     "name": "stdout",
     "output_type": "stream",
     "text": [
      "Angle: -0.3399761955626087\n",
      "Angle rounded to three digits -0.34\n",
      "Throttle: 0.5\n"
     ]
    }
   ],
   "source": [
    "import json\n",
    "file_path = '/Users/dan/mycar/data/tub-dan/record_3430.json'\n",
    "# use the file open function and load the file as json into the data object\n",
    "with open(file_path) as f:\n",
    "    data = json.load(f)\n",
    "\n",
    "print(\"Angle:\", data[\"user/angle\"])\n",
    "print(\"Angle rounded to three digits\", round(data[\"user/angle\"], 3))\n",
    "print(\"Throttle:\", data[\"user/throttle\"])"
   ]
  },
  {
   "cell_type": "markdown",
   "metadata": {},
   "source": [
    "## Viewing a JPEG Image\n",
    "We will use the IPython display library and import the Image function. This function has a single argument that has the path to the image. "
   ]
  },
  {
   "cell_type": "code",
   "execution_count": 145,
   "metadata": {},
   "outputs": [
    {
     "data": {
      "image/jpeg": "[encoded data removed]",
      "text/plain": [
       "<IPython.core.display.Image object>"
      ]
     },
     "execution_count": 145,
     "metadata": {},
     "output_type": "execute_result"
    }
   ],
   "source": [
    "import os, os.path\n",
    "from IPython.display import Image\n",
    "\n",
    "image_path = '/Users/dan/mycar/data/tub-dan/3430_cam-image_array_.jpg'\n",
    "Image(image_path)"
   ]
  },
  {
   "cell_type": "markdown",
   "metadata": {},
   "source": [
    "Using the Pillow library (PIL), we can also view the height and and width of an image.  The image above is 120 high and 160 wide which is the standard for older Raspberry Pi camera.  Our newer Nvidia Nano V2 cameras use a 224X224 format."
   ]
  },
  {
   "cell_type": "code",
   "execution_count": 160,
   "metadata": {},
   "outputs": [
    {
     "name": "stdout",
     "output_type": "stream",
     "text": [
      "Height = 120 Width= 160\n"
     ]
    }
   ],
   "source": [
    "from PIL import Image\n",
    "\n",
    "im = Image.open('/Users/dan/mycar/data/tub-dan/3430_cam-image_array_.jpg')\n",
    "width, height = im.size\n",
    "print(\"Height =\", height, \"Width=\", width)"
   ]
  },
  {
   "cell_type": "code",
   "execution_count": null,
   "metadata": {},
   "outputs": [],
   "source": []
  }
 ],
 "metadata": {
  "kernelspec": {
   "display_name": "Python 3",
   "language": "python",
   "name": "python3"
  },
  "language_info": {
   "codemirror_mode": {
    "name": "ipython",
    "version": 3
   },
   "file_extension": ".py",
   "mimetype": "text/x-python",
   "name": "python",
   "nbconvert_exporter": "python",
   "pygments_lexer": "ipython3",
   "version": "3.7.6"
  }
 },
 "nbformat": 4,
 "nbformat_minor": 4
}
