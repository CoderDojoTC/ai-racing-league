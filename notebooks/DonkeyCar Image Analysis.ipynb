{
 "cells": [
  {
   "cell_type": "markdown",
   "metadata": {},
   "source": [
    "# DonkeyCar Image Analysis"
   ]
  },
  {
   "cell_type": "code",
   "execution_count": null,
   "metadata": {},
   "outputs": [],
   "source": [
    "import os, os.path\n",
    "from IPython.display import Image\n",
    "\n",
    "my_metadata = {}\n",
    "image_path = '/Users/dan/mycar/data/tub-dan/3430_cam-image_array_.jpg'\n",
    "Image(image_path, metadata=my_metadata)\n",
    "print(my_metadata)\n",
    "\n"
   ]
  },
  {
   "cell_type": "code",
   "execution_count": 2,
   "metadata": {},
   "outputs": [
    {
     "name": "stdout",
     "output_type": "stream",
     "text": [
      "120 160\n"
     ]
    }
   ],
   "source": [
    "from PIL import Image\n",
    "\n",
    "im = Image.open('/Users/dan/mycar/data/tub-dan/3430_cam-image_array_.jpg')\n",
    "width, height = im.size\n",
    "print(height, width)"
   ]
  },
  {
   "cell_type": "code",
   "execution_count": null,
   "metadata": {},
   "outputs": [],
   "source": [
    "import cv2\n",
    "image_path = '/Users/dan/mycar/data/tub-dan/3430_cam-image_array_.jpg'\n",
    "\n",
    "im = cv2.imread('image_path')\n",
    "\n",
    "print(type(im))\n",
    "# <class 'numpy.ndarray'>\n",
    "\n",
    "print(im.shape)\n",
    "print(type(im.shape))"
   ]
  },
  {
   "cell_type": "code",
   "execution_count": null,
   "metadata": {},
   "outputs": [],
   "source": [
    "from PIL import Image\n",
    "\n",
    "im = Image.open('/Users/dan/mycar/data/tub-dan/3430_cam-image_array_.jpg')\n",
    "\n",
    "print ('width: %d - height: %d' % im.size ) # returns (width, height) tuple)"
   ]
  }
 ],
 "metadata": {
  "kernelspec": {
   "display_name": "Python 3",
   "language": "python",
   "name": "python3"
  },
  "language_info": {
   "codemirror_mode": {
    "name": "ipython",
    "version": 3
   },
   "file_extension": ".py",
   "mimetype": "text/x-python",
   "name": "python",
   "nbconvert_exporter": "python",
   "pygments_lexer": "ipython3",
   "version": "3.7.6"
  }
 },
 "nbformat": 4,
 "nbformat_minor": 4
}
