{
 "cells": [
  {
   "cell_type": "markdown",
   "metadata": {},
   "source": []
  },
  {
   "cell_type": "markdown",
   "metadata": {},
   "source": [
    "# DonkeyCar Image Analysis\n",
    "Here are some queries that access image height and width.  It will list them and show the averages.\n"
   ]
  },
  {
   "cell_type": "code",
   "execution_count": 3,
   "metadata": {},
   "outputs": [
    {
     "name": "stdout",
     "output_type": "stream",
     "text": [
      "120 160\n"
     ]
    }
   ],
   "source": [
    "from PIL import Image\n",
    "\n",
    "im = Image.open('/Users/dan/mycar/data/tub-dan/3430_cam-image_array_.jpg')\n",
    "width, height = im.size\n",
    "print(height, width)"
   ]
  },
  {
   "cell_type": "code",
   "execution_count": 20,
   "metadata": {},
   "outputs": [
    {
     "name": "stdout",
     "output_type": "stream",
     "text": [
      "3937_cam-image_array_.jpg h=120 w=160\n",
      "1086_cam-image_array_.jpg h=120 w=160\n",
      "1202_cam-image_array_.jpg h=120 w=160\n",
      "4972_cam-image_array_.jpg h=120 w=160\n",
      "955_cam-image_array_.jpg h=120 w=160\n",
      "1075_cam-image_array_.jpg h=120 w=160\n",
      "4981_cam-image_array_.jpg h=120 w=160\n",
      "1468_cam-image_array_.jpg h=120 w=160\n",
      "1666_cam-image_array_.jpg h=120 w=160\n",
      "1695_cam-image_array_.jpg h=120 w=160\n"
     ]
    }
   ],
   "source": [
    "from PIL import Image\n",
    "import glob\n",
    "import os\n",
    "\n",
    "TUB_DIR = '/Users/dan/mycar/data/tub-dan'\n",
    "\n",
    "images = glob.glob1(TUB_DIR,\"*[0-9]*_cam-image_array_.jpg\")[:10]\n",
    "\n",
    "for image in images:\n",
    "    im = Image.open(os.path.join(TUB_DIR,image))\n",
    "    width, height = im.size\n",
    "    print(image, ' h=',height, ' w=',width, sep='')\n",
    "\n",
    "            "
   ]
  },
  {
   "cell_type": "code",
   "execution_count": 27,
   "metadata": {},
   "outputs": [
    {
     "name": "stdout",
     "output_type": "stream",
     "text": [
      "3937_cam-image_array_.jpg h=120 w=160\n",
      "1086_cam-image_array_.jpg h=120 w=160\n",
      "1202_cam-image_array_.jpg h=120 w=160\n",
      "4972_cam-image_array_.jpg h=120 w=160\n",
      "955_cam-image_array_.jpg h=120 w=160\n",
      "1075_cam-image_array_.jpg h=120 w=160\n",
      "4981_cam-image_array_.jpg h=120 w=160\n",
      "1468_cam-image_array_.jpg h=120 w=160\n",
      "1666_cam-image_array_.jpg h=120 w=160\n",
      "1695_cam-image_array_.jpg h=120 w=160\n",
      "160.0 120.0\n"
     ]
    }
   ],
   "source": [
    "from PIL import Image\n",
    "import glob\n",
    "import os\n",
    "\n",
    "TUB_DIR = '/Users/dan/mycar/data/tub-dan'\n",
    "total_width = 0\n",
    "total_height = 0\n",
    "\n",
    "images = glob.glob1(TUB_DIR,\"*[0-9]*_cam-image_array_.jpg\")[:10]\n",
    "image_count = len(images)\n",
    "\n",
    "for image in images:\n",
    "    im = Image.open(os.path.join(TUB_DIR,image))\n",
    "    width, height = im.size\n",
    "    total_width = total_width + width\n",
    "    total_height = total_height + height\n",
    "    print(image, ' h=',height, ' w=',width, sep='')\n",
    "\n",
    "print(total_width/image_count, total_height/image_count)"
   ]
  },
  {
   "cell_type": "code",
   "execution_count": null,
   "metadata": {},
   "outputs": [],
   "source": [
    "Get the average height and width of all the images in a tub."
   ]
  },
  {
   "cell_type": "code",
   "execution_count": 30,
   "metadata": {},
   "outputs": [
    {
     "name": "stdout",
     "output_type": "stream",
     "text": [
      "160.0 120.0\n"
     ]
    }
   ],
   "source": [
    "from PIL import Image\n",
    "import glob\n",
    "import os\n",
    "\n",
    "TUB_DIR = '/Users/dan/mycar/data/tub-dan'\n",
    "total_width = 0\n",
    "total_height = 0\n",
    "\n",
    "images = glob.glob1(TUB_DIR,\"*[0-9]*_cam-image_array_.jpg\")\n",
    "image_count = len(images)\n",
    "\n",
    "for image in images:\n",
    "    im = Image.open(os.path.join(TUB_DIR,image))\n",
    "    width, height = im.size\n",
    "    total_width = total_width + width\n",
    "    total_height = total_height + height\n",
    "    # print(image, ' h=',height, ' w=',width, sep='')\n",
    "\n",
    "print(total_width/image_count, total_height/image_count)"
   ]
  },
  {
   "cell_type": "code",
   "execution_count": null,
   "metadata": {},
   "outputs": [],
   "source": []
  }
 ],
 "metadata": {
  "kernelspec": {
   "display_name": "Python 3",
   "language": "python",
   "name": "python3"
  },
  "language_info": {
   "codemirror_mode": {
    "name": "ipython",
    "version": 3
   },
   "file_extension": ".py",
   "mimetype": "text/x-python",
   "name": "python",
   "nbconvert_exporter": "python",
   "pygments_lexer": "ipython3",
   "version": "3.7.6"
  }
 },
 "nbformat": 4,
 "nbformat_minor": 4
}
